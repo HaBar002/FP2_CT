{
 "cells": [
  {
   "cell_type": "markdown",
   "metadata": {},
   "source": [
    "# Python (Python 3) - NumPy - SciPy\n",
    "\n",
    "### Ausführen von Python-Code im Gegensatz zur Nutzung der interaktiven Shell\n",
    "\n",
    "Bei Nutzung von Jupyter-Notebook genügt es, den Programmcode in eine \"Code\"-Zelle einzutragen und mittels Run-Button zu starten. \n",
    "\n",
    "- Die Strukturierung innerhalb eines Programms erfolgt mittels Einrücken.   \n",
    "- Variablen benötigen keine Typdeklaration.\n",
    "- Seit Python3 ist das Resultat der Division zweier Integer-Werte automatisch float."
   ]
  },
  {
   "cell_type": "code",
   "execution_count": 1,
   "metadata": {
    "scrolled": true
   },
   "outputs": [
    {
     "name": "stdout",
     "output_type": "stream",
     "text": [
      "Python für FP2\n",
      "1 2 0.5\n",
      "1 3 0.3333333333333333\n",
      "1 4 0.25\n",
      "2 4 0.5\n"
     ]
    }
   ],
   "source": [
    "print (\"Python für FP2\")\n",
    "\n",
    "from math import sqrt\n",
    "n = 10\n",
    "for a in range(1,n):\n",
    "    for b in range(a,int(n/2)):\n",
    "        c = a / b\n",
    "        if (c <= .5):\n",
    "            print(a, b, c)"
   ]
  },
  {
   "cell_type": "markdown",
   "metadata": {},
   "source": [
    "### Datentypen in Python\n",
    "#### Datentypen für Zahlen\n",
    "\n",
    "- Ganzzahl: Integer, Oktal, Hexadezimal, Binär, \n",
    "- Float\n",
    "- Complex\n",
    "\n",
    "#### Andere Datentypen\n",
    "\n",
    "- String: s=\"Hallo\"  (Zeichenkette)\n",
    "- Liste: l=[1, 2, 3] (Veränderbare Liste mit Reihenfolge)\n",
    "- Tupel: t=(1, 2, 3) (Unveränderbare Liste mit Reihenfolge)\n",
    "- Dictionary: d={1: \"eins\", 2: \"zwei\", 3: \"drei\"}  (Assoziatives Array)\n",
    "\n",
    "Für viele Berechnungen im FP2 benötigen wir Arrays (Felder). Diese sind Bestandteil des Moduls NumPy.\n",
    "\n",
    "### Module und deren Nutzung\n",
    "\n",
    "In Python unterscheide man zwei Arten von Modulen:\n",
    "\n",
    "- Bibliotheken (Libraries)\n",
    "  Stellen Datentypen und Funktionen für alle Python-Programme bereit. Es gibt:\n",
    "        - umfangreiche Standardbibliotheken\n",
    "        - eigene Module\n",
    "        - Module von Drittanbietern \n",
    "- lokale Module\n",
    "    \n",
    "Ein Modul, egal ob aus der Standardbibliothek oder einer eigenen, wird mit der import-Anweisung eingebunden.\n",
    "\n",
    "Einige Beispiele:\n",
    "- mehrere Module können auf einmal importiert werden, deren Namen stehen dann in einem eigenen Namensraum zur Verfügung\n",
    "- einzelne Methoden/Funktionen können auch selektiv ausgewählt werden, die anderen Methoden der Bibliohek stehen dann nicht zur Verfügung\n",
    "- der Namensraum kann auch umbenannt werden"
   ]
  },
  {
   "cell_type": "code",
   "execution_count": null,
   "metadata": {},
   "outputs": [],
   "source": [
    "import math\n",
    "pi = math.pi\n",
    "sin_pi_2 = math.sin(math.pi/2)\n",
    "cos_pi_2 = math.cos(math.pi/2)\n",
    "cos_pi = math.cos(math.pi)\n",
    "print (pi, sin_pi_2, cos_pi_2, cos_pi)"
   ]
  },
  {
   "cell_type": "code",
   "execution_count": null,
   "metadata": {
    "scrolled": true
   },
   "outputs": [],
   "source": [
    "pi = 3.1415\n",
    "print (pi)\n",
    "from math import pi\n",
    "print (pi)"
   ]
  },
  {
   "cell_type": "code",
   "execution_count": null,
   "metadata": {
    "scrolled": true
   },
   "outputs": [],
   "source": [
    "import math as m\n",
    "sin_pi = m.sin(m.pi)\n",
    "print (sin_pi)"
   ]
  },
  {
   "cell_type": "markdown",
   "metadata": {},
   "source": [
    "# Module für mathematische (statistische) Berechnungen\n",
    "\n",
    "Numerisches Python (Numerisches Programmieren) bedeutet hier \"Math. Programmieren mit Zahlen\".\n",
    "Reines Python (ohne numerische Spezialmodule) würde sich nicht besonders gut eignen für unsere Aufgaben. Deshalb nutzen wir Python in Kombination mit Modulen wie NumPy, SciPy, Matplotlib und Pandas:\n",
    "\n",
    "- **NumPy:** implementiert mehrdimensionale Arrays und Matrizen und stellt grundlegende Funktionalitäten zur Erzeugung und Manipulation solcher Datenstrukturen zur Verfügung\n",
    "- **SciPy:** benutzt die von NumPy bereitgestellten Datenstrukturen und erweitert die Leistungsfähigkeit um komplexere math. Funktionen, wie u. a. auch Methoden der Signalverarbeitung.\n",
    "- **MathPlotlib:** Erweitert die Funktionalität um aussagekräftige grafische Darstellungen.\n",
    "- **Pandas:** stellt Datenstrukturen und Operationen zur Manipulation von Tabellen und Zeitreihen bereit\n",
    "\n",
    "# NumPy\n",
    "\n",
    "## Datenstruktur array\n",
    "Beispiele:"
   ]
  },
  {
   "cell_type": "code",
   "execution_count": 2,
   "metadata": {},
   "outputs": [
    {
     "name": "stdout",
     "output_type": "stream",
     "text": [
      "[20.1 20.8 21.9 22.5 22.7 21.8 21.3 20.9 20.1] <class 'numpy.ndarray'> <class 'list'>\n"
     ]
    }
   ],
   "source": [
    "import numpy as np\n",
    "# Definition einer Liste von Temperaturwerten (\"Standard\"-Python)\n",
    "tvalues = [20.1, 20.8, 21.9, 22.5, 22.7, 21.8, 21.3, 20.9, 20.1]\n",
    "T = np.array(tvalues)\n",
    "print(T, type(T), type(tvalues))"
   ]
  },
  {
   "cell_type": "code",
   "execution_count": null,
   "metadata": {},
   "outputs": [],
   "source": [
    "# auf diesem array sind skalare Operationen einfach möglich, z.B. Umrechnung in Grad Fahrenheit\n",
    "print(T * 9 / 5 + 32)\n",
    "# das array T selbst wird dabei nicht verändert\n",
    "print (T)"
   ]
  },
  {
   "cell_type": "code",
   "execution_count": 4,
   "metadata": {
    "scrolled": true
   },
   "outputs": [
    {
     "data": {
      "image/png": "[encoded data removed]",
      "text/plain": [
       "<Figure size 640x480 with 1 Axes>"
      ]
     },
     "metadata": {},
     "output_type": "display_data"
    },
    {
     "ename": "NameError",
     "evalue": "name 'axis' is not defined",
     "output_type": "error",
     "traceback": [
      "\u001b[1;31m---------------------------------------------------------------------------\u001b[0m",
      "\u001b[1;31mNameError\u001b[0m                                 Traceback (most recent call last)",
      "Cell \u001b[1;32mIn[4], line 6\u001b[0m\n\u001b[0;32m      4\u001b[0m plt\u001b[38;5;241m.\u001b[39mplot(T)\n\u001b[0;32m      5\u001b[0m plt\u001b[38;5;241m.\u001b[39mshow()\n\u001b[1;32m----> 6\u001b[0m \u001b[43maxis\u001b[49m\u001b[38;5;241m.\u001b[39moff\n",
      "\u001b[1;31mNameError\u001b[0m: name 'axis' is not defined"
     ]
    }
   ],
   "source": [
    "# Grafische Darstellung\n",
    "%matplotlib inline\n",
    "import matplotlib.pyplot as plt\n",
    "plt.plot(T)\n",
    "plt.show()\n",
    "axis.off"
   ]
  },
  {
   "cell_type": "code",
   "execution_count": null,
   "metadata": {},
   "outputs": [],
   "source": [
    "# Eine Implementierung mittels Python-Liste ist ebenfalls möglich mithilfe der sogenannten \n",
    "# Listenabstraktion (aber umständlicher)\n",
    "fvalues = [ x*9/5 + 32 for x in tvalues] \n",
    "print(fvalues)"
   ]
  },
  {
   "cell_type": "markdown",
   "metadata": {
    "tags": []
   },
   "source": [
    "weitere Vorteile von NumPy-Arrays sind ein **geringerer Speicherverbrauch** und ein **besseres Laufzeitverhalten**\n",
    "\n",
    "## Erzeugen von Arrays\n",
    "\n",
    "**arange** liefert gleichmäßig verteilte Werte innerhalb eines gegebenen Intervalles zurück\n",
    "\n",
    "\n",
    "#### Syntax von arange\n",
    "\n",
    "arange([start,] stop[, step], [, dtype=None])\n",
    "\n",
    "Die Werte werden innerhalb des halb-offenen Intervalles [start, stop) generiert. Wird diese Funktion mit Integer-Werten benutzt, ist sie beinahe äquivalent zu der built-in Python-Funktion range. arange liefert jedoch ein ndarray zurück, während range einen Listen-Iterator zurückliefert. \n",
    "\n",
    "Falls der start-Parameter nicht übergeben wird, wird start auf 0 gesetzt. Das Ende des Intervalls wird durch den Parameter stop bestimmt. Üblicherweise wird das Intervall diesen Wert nicht beinhalten, außer in den Fällen, in denen step keine Ganzzahl ist und floating-point-Effekte die Länge des Ausgabearrays beeinflussen.\n",
    "\n",
    "Der Abstand zwischen zwei benachbarten Werten des Ausgabearrays kann mittels des optionalen Parameters step gesetzt werden. Der Default-Wert für step ist 1.\n",
    "\n",
    "Falls ein Wert für step angegeben wird, kann der start-Parameter nicht mehr optional sein, d.h. er muss dann auch angegeben werden.\n",
    "\n",
    "Der Typ des Ausgabearrays kann mit dem Parameter dtype bestimmt werden. Wird er nicht angegeben, wird der Typ automatisch aus den übergebenen Eingabewerten ermittelt."
   ]
  },
  {
   "cell_type": "code",
   "execution_count": null,
   "metadata": {
    "scrolled": true
   },
   "outputs": [],
   "source": [
    "import numpy as np\n",
    "a = np.arange(1, 7)\n",
    "print(a)\n",
    "# im Vergleich dazu nun range:\n",
    "x = range(1, 7)\n",
    "print(x)    # x ist ein Iterator\n",
    "print(list(x))\n",
    "# weitere arange-Beispiele:\n",
    "x = np.arange(7.3)\n",
    "print(x)\n",
    "x = np.arange(0.5, 6.1, 0.8)\n",
    "print(x)\n",
    "x = np.arange(0.5, 6.1, 0.8, int)\n",
    "print(x)"
   ]
  },
  {
   "cell_type": "markdown",
   "metadata": {},
   "source": [
    "#### Syntax von linspace\n",
    "\n",
    "linspace(start, stop, num=50, endpoint=True, retstep=False)\n",
    "\n",
    "**linspace** liefert ein ndarray zurück, welches aus 'num' gleichmäßig verteilten Werten aus dem geschlossenen Interval ['start', 'stop'] oder dem halb-offenen Intervall ['start', 'stop') besteht. Ob ein geschlossenes oder ein halb-offenes Intervall zurückgeliefert wird, hängt vom Wert des Parameters endpoint ab. stop ist der letzte Wert des Intervalls, falls endpoint nicht auf False gesetzt ist. Die Schrittweite ist unterschiedlich, je nachdem, ob endpoint True oder False ist:"
   ]
  },
  {
   "cell_type": "code",
   "execution_count": null,
   "metadata": {
    "scrolled": true
   },
   "outputs": [],
   "source": [
    "import numpy as np\n",
    "# 50 Werte (Default) zwischen 1 und 10:\n",
    "print(np.linspace(1, 10))\n",
    "# 7 Werte zwischen 1 und 10:\n",
    "print(np.linspace(1, 10, 7))\n",
    "# jetzt ohne Endpunkt:\n",
    "print(np.linspace(1, 10, 7, endpoint=False))"
   ]
  },
  {
   "cell_type": "markdown",
   "metadata": {},
   "source": [
    "### Nulldimensionale Arrays in NumPy\n",
    "\n",
    "In NumPy kann man mehrdimensionale Arrays erzeugen. Skalare sind 0-dimensional. Im folgenden Beispiel erzeugen wir den Skalar 42. Wenden wir die ndim-Methode auf unseren Skalar an, erhalten wir die Dimension des Arrays. Wir können außerdem sehen, dass das Array vom Typ numpy.ndarray ist."
   ]
  },
  {
   "cell_type": "code",
   "execution_count": null,
   "metadata": {},
   "outputs": [],
   "source": [
    "import numpy as np\n",
    "x = np.array(42)\n",
    "print(\"x: \", x)\n",
    "print(\"Typ von x: \", type(x))\n",
    "print(\"Dimension von x:\", np.ndim(x))"
   ]
  },
  {
   "cell_type": "markdown",
   "metadata": {},
   "source": [
    "### Eindimensionales Array\n",
    "\n",
    "Wir haben bereits in unserem anfänglichen Beispiel ein eindimensionales Array (besser als Vektor bekannt) gesehen. Weiterhin gilt, dass NumPy-Arrays Container sind, die nur einen Typ enthalten können, also beispielsweise nur Integers. Den homogenen Datentyp eines Arrays können wir mit dem Attribut dtype bestimmen, wie wir im folgenden Beispiel sehen können:"
   ]
  },
  {
   "cell_type": "code",
   "execution_count": null,
   "metadata": {
    "scrolled": true
   },
   "outputs": [],
   "source": [
    "F = np.array([1, 1, 2, 3, 5, 8, 13, 21])\n",
    "V = np.array([3.4, 6.9, 99.8, 12.8])\n",
    "print(\"F: \", F)\n",
    "print(\"V: \", V)\n",
    "print(\"Typ von F: \", F.dtype)\n",
    "print(\"Typ von V: \", V.dtype)\n",
    "print(\"Dimension von F: \", np.ndim(F))\n",
    "print(\"Dimension von V: \", np.ndim(V))"
   ]
  },
  {
   "cell_type": "markdown",
   "metadata": {},
   "source": [
    "### Zwei- und Mehrdimensionale Arrays\n",
    "\n",
    "Natürlich sind die Arrays in NumPy nicht auf eine Dimension beschränkt. Sie können eine beliebige Anzahl von Dimensionen haben. Wir erzeugen sie, indem wir verschachtelte Listen (oder Tupel) an die array-Methode von NumPy übergeben:"
   ]
  },
  {
   "cell_type": "code",
   "execution_count": null,
   "metadata": {},
   "outputs": [],
   "source": [
    "A = np.array([ [3.4, 8.7, 9.9], \n",
    "               [1.1, -7.8, -0.7],\n",
    "               [4.1, 12.3, 4.8]])\n",
    "print(A)\n",
    "print(A.ndim)"
   ]
  },
  {
   "cell_type": "markdown",
   "metadata": {},
   "source": [
    "### Shape/Gestalt eines Arrays\n",
    "\n",
    "Die Funktion **shape** liefert die Größe bzw. die Gestalt eines Arrays in Form eines Integer-Tupels zurück. Diese Zahlen bezeichnen die Längen der entsprechenden Array-Dimensionen, d.h. im zweidimensionalen Fall den Zeilen und Spalten. In anderen Worten: Die Gestalt oder Shape eines Arrays ist ein Tupel mit der Anzahl der Elemente pro Achse (Dimension). In unserem Beispiel ist die Shape gleich (6, 3). Das bedeutet, das wir sechs Zeilen und drei Spalten haben. "
   ]
  },
  {
   "cell_type": "code",
   "execution_count": null,
   "metadata": {},
   "outputs": [],
   "source": [
    "x = np.array([ [67, 63, 87],\n",
    "               [77, 69, 59],\n",
    "               [85, 87, 99],\n",
    "               [79, 72, 71],\n",
    "               [63, 89, 93],\n",
    "               [68, 92, 78]])\n",
    "print(np.shape(x))\n",
    "\n",
    "# Es gibt auch eine äquivalente Array-Property:\n",
    "\n",
    "print(x.shape)\n"
   ]
  },
  {
   "cell_type": "markdown",
   "metadata": {},
   "source": [
    "Die Shape eines Arrays sagt uns auch etwas über die Reihenfolge, in der die Indizes ausgeführt werden, d.h. zuerst die Zeilen, dann die Spalten und dann gegebenenfalls eine weitere Dimension oder weitere Dimensionen.\n",
    "\n",
    "**shape** kann auch dazu genutzt werden, die \"Shape\" eines Arrays zu ändern:"
   ]
  },
  {
   "cell_type": "code",
   "execution_count": null,
   "metadata": {},
   "outputs": [],
   "source": [
    "x.shape = (3, 6)\n",
    "print(x)\n",
    "\n",
    "x.shape = (2, 9)\n",
    "print(x)\n",
    "\n",
    "# Wichtig: die neue Shape muss der Anzahl der Elemente des Arrays entsprechen, \n",
    "# d.h. die totale Größe des neuen Arrays muss die gleiche wie die alte sein\n",
    "# z.B. ist x.shape = (4, 4) nicht möglich"
   ]
  },
  {
   "cell_type": "markdown",
   "metadata": {},
   "source": [
    "Im Folgenden sehen wir die Shape eines dreidimensionalen Arrays:"
   ]
  },
  {
   "cell_type": "code",
   "execution_count": null,
   "metadata": {},
   "outputs": [],
   "source": [
    "B = np.array([ [[111, 112], [121, 122]],\n",
    "               [[211, 212], [221, 222]],\n",
    "               [[311, 312], [321, 322]] ])\n",
    "print(B.shape)\n",
    "print(B[1][1][0])"
   ]
  },
  {
   "cell_type": "markdown",
   "metadata": {},
   "source": [
    "### Indizierung und Teilbereichsoperator\n",
    "\n",
    "Der Zugriff oder die Zuweisung an die Elemente eines Arrays funktioniert ähnlich wie bei den sequentiellen Datentypen von Python, d.h. den Listen und Tupeln. Außerdem haben wir verschiedene Möglichkeiten zu indizieren. Dies macht das Indizieren in NumPy sehr mächtig und ähnlich zum Indizieren und dem Teilbereichsoperator der Listen.\n",
    "\n",
    "Einzelne Elemente zu indizieren, funktioniert so, wie es die meisten wahrscheinlich erwarten:"
   ]
  },
  {
   "cell_type": "code",
   "execution_count": null,
   "metadata": {},
   "outputs": [],
   "source": [
    "F = np.array([1, 1, 2, 3, 5, 8, 13, 21])\n",
    "# Ausgabe des ersten Elements von F\n",
    "print(F[0])\n",
    "# Ausgabe letztes Element von F\n",
    "print(F[-1])"
   ]
  },
  {
   "cell_type": "markdown",
   "metadata": {},
   "source": [
    "Mehrdimensionale Arrays indizieren:  \n",
    "Wir greifen zu auf das Element in der zweiten Zeile (Index 1) und der ersten Spalte (Index 0). "
   ]
  },
  {
   "cell_type": "code",
   "execution_count": null,
   "metadata": {},
   "outputs": [],
   "source": [
    "A = np.array([ [3.4, 8.7, 9.9], \n",
    "               [1.1, -7.8, -0.7],\n",
    "               [4.1, 12.3, 4.8]])\n",
    "print(A[1][0])\n",
    "B = np.array([ [[111, 112], [121, 122]],\n",
    "               [[211, 212], [221, 222]],\n",
    "               [[311, 312], [321, 322]] ])\n",
    "print(B[0][1][0])\n",
    "\n",
    "# Oder: Effizientere Alternative: Wir benutzen nur ein Klammernpaar, und alle Indizes werden \n",
    "# mit Kommas separiert:\n",
    "\n",
    "print (A[1, 0])\n",
    "print (B[0, 1, 0])\n"
   ]
  },
  {
   "cell_type": "markdown",
   "metadata": {},
   "source": [
    "Die allgemeine Syntax für die Nutzung von **Teilbereichsoperatoren** (slicing) für den eindimensionalen Fall lautet wie folgt:\n",
    "\n",
    "[start:stop:step]\n",
    "\n",
    "Wir demonstrieren die Arbeitsweise des Teilbereichsoperators an einigen Beispielen und beginnen mit dem einfachsten Fall, also dem eindimensionalen Array:"
   ]
  },
  {
   "cell_type": "code",
   "execution_count": null,
   "metadata": {
    "scrolled": true
   },
   "outputs": [],
   "source": [
    "import numpy as np\n",
    "S = np.array([0, 1, 2, 3, 4, 5, 6, 7, 8, 9])\n",
    "print(S[2:5])\n",
    "print(S[:4])\n",
    "print(S[6:])\n",
    "print(S[:])"
   ]
  },
  {
   "cell_type": "markdown",
   "metadata": {},
   "source": [
    "Die Anwendung des Teilbereichsoperators auf mehrdimensionale Arrays illustrieren wir in den folgenden Beispielen.   \n",
    "Die Bereiche für jede Dimension werden durch Kommas getrennt:"
   ]
  },
  {
   "cell_type": "code",
   "execution_count": null,
   "metadata": {},
   "outputs": [],
   "source": [
    "A = np.array([\n",
    "[11, 12, 13, 14, 15],\n",
    "[21, 22, 23, 24, 25],\n",
    "[31, 32, 33, 34, 35],\n",
    "[41, 42, 43, 44, 45],\n",
    "[51, 52, 53, 54, 55]])\n",
    "print(A[:3, 2:])"
   ]
  },
  {
   "attachments": {
    "grafik.png": {
     "image/png": "[encoded data removed]"
    }
   },
   "cell_type": "markdown",
   "metadata": {},
   "source": [
    "![grafik.png](attachment:grafik.png)"
   ]
  },
  {
   "cell_type": "code",
   "execution_count": null,
   "metadata": {},
   "outputs": [],
   "source": [
    "print(A[3:, :])"
   ]
  },
  {
   "attachments": {
    "grafik.png": {
     "image/png": "[encoded data removed]"
    }
   },
   "cell_type": "markdown",
   "metadata": {},
   "source": [
    "![grafik.png](attachment:grafik.png)"
   ]
  },
  {
   "cell_type": "code",
   "execution_count": null,
   "metadata": {},
   "outputs": [],
   "source": [
    "print(A[:, 4:])"
   ]
  },
  {
   "attachments": {
    "grafik.png": {
     "image/png": "[encoded data removed]"
    }
   },
   "cell_type": "markdown",
   "metadata": {},
   "source": [
    "![grafik.png](attachment:grafik.png)"
   ]
  },
  {
   "cell_type": "markdown",
   "metadata": {},
   "source": [
    "Die folgenden beiden Beispiele benutzten auch noch den dritten Parameter step. Die reshape-Funktion benutzen wir, um ein eindimensionales Array in ein zweidimensionales zu wandeln. "
   ]
  },
  {
   "cell_type": "code",
   "execution_count": null,
   "metadata": {},
   "outputs": [],
   "source": [
    "X = np.arange(28).reshape(4, 7)\n",
    "print(X)\n",
    "\n",
    "# und nun jedes dritte Element in jeder zweiten Zeile\n",
    "print(\"Und nun jedes dritte Element in jeder zweiten Zeile\")\n",
    "print(X[::2, ::3])"
   ]
  },
  {
   "attachments": {
    "grafik.png": {
     "image/png": "[encoded data removed]"
    }
   },
   "cell_type": "markdown",
   "metadata": {},
   "source": [
    "![grafik.png](attachment:grafik.png)"
   ]
  },
  {
   "cell_type": "code",
   "execution_count": null,
   "metadata": {},
   "outputs": [],
   "source": [
    "# oder jedes dritte Element in jeder Zeile\n",
    "print(X[::, ::3])"
   ]
  },
  {
   "attachments": {
    "grafik.png": {
     "image/png": "[encoded data removed]"
    }
   },
   "cell_type": "markdown",
   "metadata": {},
   "source": [
    "![grafik.png](attachment:grafik.png)"
   ]
  },
  {
   "cell_type": "markdown",
   "metadata": {},
   "source": [
    "### Dreidimensionale Arrays\n",
    "\n",
    "Dreidimensionale Arrays sind vom Zugriff her etwas schwerer vorstellbar. Betrachten wir dazu das folgende Beispielarray:"
   ]
  },
  {
   "cell_type": "code",
   "execution_count": null,
   "metadata": {},
   "outputs": [],
   "source": [
    "import numpy as np\n",
    "X = np.array(\n",
    "    [[[3, 1, 2],\n",
    "      [4, 2, 2]],\n",
    "     [[-1, 0, 1],\n",
    "      [1, -1, -2]],\n",
    "     \n",
    "     [[3, 2, 2],\n",
    "      [4, 4, 3]],\n",
    "     [[2, 2, 1],\n",
    "      [3, 1, 3]]])\n",
    "print(X)\n",
    "print(X.shape)"
   ]
  },
  {
   "cell_type": "markdown",
   "metadata": {},
   "source": [
    "Wir sehen, dass dieses Array eine Shape (4, 2, 3) hat. Wir benutzen nun die Slicing-Funktionalität, um uns die Schnitte durch die Dimensionen zu veranschaulichen:"
   ]
  },
  {
   "cell_type": "code",
   "execution_count": null,
   "metadata": {},
   "outputs": [],
   "source": [
    "print(\"Dimension 0 with size \", X.shape[0])\n",
    "for i in range(X.shape[0]):\n",
    "    print(f\"\\nAusgabe von X[{i:1},:,:]:\")\n",
    "    print(X[i,:,:])\n",
    "    \n",
    "print(\"\\nDimension 1 with size \", X.shape[1])\n",
    "for i in range(X.shape[1]):\n",
    "    print(f\"\\nAusgabe von X[:,{i:1},:]:\")\n",
    "    print(X[:,i,:])\n",
    "    \n",
    "print(\"\\nDimension 2 with size \", X.shape[2])\n",
    "for i in range(X.shape[2]):\n",
    "    print(f\"\\nAusgabe von X[:,:,{i:1}]:\")\n",
    "    print(X[:,:,i])"
   ]
  },
  {
   "cell_type": "markdown",
   "metadata": {},
   "source": [
    "### Arrays mit Nullen und Einsen\n",
    "\n",
    "Arrays können auf zwei Arten mit **Nullen** und **Einsen** initialisiert werden. Die Methode ones(t) hat als Parameter ein Tupel t mit der Shape des Arrays und erzeugt entsprechend ein Array mit Einsen. Defaultmäßig wird es mit Float-Einsen gefüllt. Wenn man Integer-Einsen benötigt, kann man den optionalen Parameter dtype auf int setzen:"
   ]
  },
  {
   "cell_type": "code",
   "execution_count": null,
   "metadata": {},
   "outputs": [],
   "source": [
    "import numpy as np\n",
    "E = np.ones((2, 3))\n",
    "print(E)\n",
    "F = np.ones((3, 4), dtype=int)\n",
    "print(F)"
   ]
  },
  {
   "cell_type": "markdown",
   "metadata": {},
   "source": [
    "Was wir über die Methode **ones** gesagt haben, gilt analog auch für die Methode **zeros**:"
   ]
  },
  {
   "cell_type": "code",
   "execution_count": null,
   "metadata": {},
   "outputs": [],
   "source": [
    "Z = np.zeros((2, 4))\n",
    "print(Z)\n",
    "Z = np.zeros((2, 4), dtype=int)\n",
    "print(Z)"
   ]
  },
  {
   "cell_type": "markdown",
   "metadata": {},
   "source": [
    "Es gibt noch eine andere interessante Möglichkeit, ein Array mit Einsen oder Nullen zu erzeugen, wenn es die gleiche Shape wie ein anderes existierendes Array 'a' haben soll. Für diesen Zweck stellt NumPy die Methoden **ones_like** und **zeros_like** zur Verfügung:"
   ]
  },
  {
   "cell_type": "code",
   "execution_count": null,
   "metadata": {},
   "outputs": [],
   "source": [
    "x = np.array([2, 5, 18, 14, 4])\n",
    "E = np.ones_like(x)\n",
    "print(E)\n",
    "Z = np.zeros_like(x)\n",
    "print(Z)"
   ]
  },
  {
   "cell_type": "markdown",
   "metadata": {},
   "source": [
    "## Arrays kopieren\n",
    "\n",
    "\n",
    "### numpy.copy(A) und A.copy()\n",
    "\n",
    "Zum Kopieren eines NumPy-Arrays A gibt es generell zwei Möglichkeiten:\n",
    "\n",
    "    numpy.copy(A)\n",
    "    A.copy()\n",
    "\n",
    "Beide sind nahezu gleich und liefern jeweils eine Kopie des Arrays A zurück. Sie unterscheiden sich aber beim Defaultwert des optionalen Parameters order. Bei numpy.copy(obj) steht der Defaultwert auf order='K', und bei obj.copy() steht er auf order='C'.  \n",
    "\n",
    "    Parameter \tBedeutung\n",
    "        obj       array-ähnliche Eingabedaten\n",
    "        order \tDie möglichen Werte sind {'C', 'F', 'A', 'K'}.   \n",
    "        \n",
    "Der Parameter *order* kontrolliert das Speicher-Layout der Kopie.  \n",
    "'C' bedeutet C-Reihenfolge oder C-zusammenhängend, 'F' Fortran-zusammenhängend, 'A' verhält sich wie 'F', falls das   \n",
    "Objekt 'obj' in Fortran-Reihenfolge ist, ansonsten verhält sich 'A' wie 'C'. 'K' bedeutet, dass das Layout von 'obj'   \n",
    "so nahe wie möglich realisiert werden soll.\n",
    "    \n",
    "    \n",
    "### Zusammenhängend gespeicherte Arrays\n",
    "\n",
    "Um den Parameter *order* zu verstehen, gehen wir noch kurz auf den Begriff \"zusammenhängend\" (englisch \"contiguous\") ein. Die Speicherstruktur eines Arrays wird als zusammenhängend bezeichnet, wenn die Speicherung eines Arrays entweder C-zusammenhängend (C_CONTIGUOUS) oder Fortran-zusammenhängend (F_CONTIGUOUS) erfolgt. Betrachten wir dazu folgendes Array:"
   ]
  },
  {
   "cell_type": "code",
   "execution_count": null,
   "metadata": {},
   "outputs": [],
   "source": [
    "import numpy as np\n",
    "F = np.array([[11, 12, 13, 14], \n",
    "              [21, 22, 23, 24],\n",
    "              [31, 32, 33, 34]], order='F')\n",
    "C = F.copy()\n",
    "C2 = np.copy(F)\n",
    "print(\"F array: \\n\", F)\n",
    "print(\"C array: \\n\", C)\n",
    "print(\"Ist F 'C contiguous?': \", F.flags['C_CONTIGUOUS'])\n",
    "print(\"Ist C 'C contiguous?': \", C.flags['C_CONTIGUOUS'])\n",
    "print(\"Ist C 'C contiguous?': \", C2.flags['C_CONTIGUOUS'])"
   ]
  },
  {
   "cell_type": "markdown",
   "metadata": {},
   "source": [
    "## Identitäts-Array\n",
    "\n",
    "In der linearen Algebra versteht man unter der Identitätsmatrix oder Einheitsmatrix eine quadratische Matrix, deren Hauptdiagonalelemente eins und deren Außerdiagonalelemente null sind.\n",
    "\n",
    "NumPy bietet zwei Möglichkeiten, solche Arrays zu erzeugen:\n",
    "\n",
    "    identy\n",
    "    eye\n"
   ]
  },
  {
   "cell_type": "markdown",
   "metadata": {},
   "source": [
    "### Die identity-Funktion\n",
    "\n",
    "Wir können Identitäts-Arrays mit der Funktion *identity* generieren:\n",
    "\n",
    "**identity(n, dtype=None)**  \n",
    "\n",
    "    Parameter \tBedeutung\n",
    "    n \t        Eine Integer-Zahl, welche die Anzahl der Zeilen und Spalten der Ausgabe                   \n",
    "                  definiert, d.h. 'n' x 'n'\n",
    "    dtype \t    Ein optionales Argument, welches den Datentyp des Ergebnisses definiert.  \n",
    "                  Der Default ist 'float'\n",
    "\n",
    "Die Ausgabe von identity ist ein n x n-Array, in dem die Elemente auf der Hauptdiagonalen auf 1 gesetzt sind und alle anderen Elemente auf 0."
   ]
  },
  {
   "cell_type": "code",
   "execution_count": null,
   "metadata": {},
   "outputs": [],
   "source": [
    "import numpy as np\n",
    "A = np.identity(4)\n",
    "B = np.identity(4, dtype=int)\n",
    "print(\"A array: \\n\", A)\n",
    "print(\"B array: \\n\", B)\n"
   ]
  },
  {
   "cell_type": "markdown",
   "metadata": {},
   "source": [
    "### Die eye-Funktion\n",
    "\n",
    "Die Funktion *eye* bietet eine andere Möglichkeit, Identitätsarrays, aber auch allgemeine Diagonalarrays, mit Einsen zu erzeugen. Die Ausgabe von eye ist ein zweidimensionales Array, in dem die Elemente auf der Hauptdiagonalen auf 1 gesetzt sind (bei k=0) und alle anderen Elemente auf 0. Mit unterschiedlichen k lässt sich die Diagonale \"verschieben\".\n",
    "\n",
    "**eye(N, M=None, k=0, dtype=float)**"
   ]
  },
  {
   "cell_type": "code",
   "execution_count": null,
   "metadata": {},
   "outputs": [],
   "source": [
    "import numpy as np\n",
    "print(np.eye(5, 8, k=1, dtype=int))"
   ]
  },
  {
   "cell_type": "markdown",
   "metadata": {},
   "source": [
    "### Datentyp-Objekt: dtype\n",
    "\n",
    "#### dtype\n",
    "\n",
    "Das Datentypobjekt 'dtype' ist eine Instanz der numpy.dtype-Klasse. Es kann mit *numpy.dtype* konstruiert werden.\n",
    "\n",
    "Bis jetzt haben wir in unseren Beispielen von NumPy-Arrays nur grundlegende numerische Typen wie 'int' und 'float' benutzt. Diese NumPy-Arrays enthielten nur homogene Datentypen. dtype-Objekte werden aus einer Kombination von grundlegenden Datentypen erzeugt. Mit Hilfe von dtype sind wir in der Lage \"Strukturierte Arrays\" zu erzeugen (auch bekannt als \"record arrays\") und somit verschiedene Datentypen in verschiedenen Spalten zu haben. Es gibt somit Ähnlichkeit zu Excel- oder CSV-Dokumenten. "
   ]
  },
  {
   "cell_type": "markdown",
   "metadata": {},
   "source": [
    "#### Strukturierte Arrays\n",
    "\n",
    "*ndarrays* sind homogene Datenobjekte, d.h. alle Elemente eines Arrays haben den gleichen Datentyp. Der Datentyp dtype hingegen erlaubt es uns, spaltenweise Typen zu deklarieren.\n",
    "\n",
    "Wir wollen eine Tabelle europäischer Länder mit den Informationen über Fläche, Bevölkerung und Bevölkerungsdichte generieren.\n",
    "\n",
    "Wir erzeugen ein strukturiertes Array mit den Spalten \"country\" (String), \"density\" (float), \"area\" (int) und \"population\"(int). Die Struktur dafür haben wir vorher in dt definiert:"
   ]
  },
  {
   "cell_type": "code",
   "execution_count": null,
   "metadata": {},
   "outputs": [],
   "source": [
    "dt = np.dtype([('country', 'S20'), \n",
    "               ('density', 'f'), \n",
    "               ('area', 'i4'), \n",
    "               ('population', 'i4')])\n",
    "population_table = np.array([('Netherlands', 393, 41526, 16928800),\n",
    "('Belgium', 337, 30510, 11007020),\n",
    "('United Kingdom', 256, 243610, 62262000),\n",
    "('Germany', 233, 357021, 81799600),\n",
    "('Liechtenstein', 205, 160, 32842),\n",
    "('Italy', 192, 301230, 59715625),\n",
    "('Switzerland', 177, 41290, 7301994),\n",
    "('Luxembourg', 173, 2586, 512000),\n",
    "('France', 111, 547030, 63601002),\n",
    "('Austria', 97, 83858, 8169929),\n",
    "('Greece', 81, 131940, 11606813),\n",
    "('Ireland', 65, 70280, 4581269),\n",
    "('Sweden', 20, 449964, 9515744),\n",
    "('Finland', 16, 338424, 5410233),\n",
    "('Norway', 13, 385252, 5033675)],dtype=dt)\n",
    "print(population_table['density'])\n",
    "print(population_table['country'])\n",
    "print(population_table['area'][2:5])"
   ]
  },
  {
   "cell_type": "markdown",
   "metadata": {},
   "source": [
    "### Numerische Operationen auf NumPy-Arrays\n",
    "\n",
    "#### Operatoren und Skalare\n",
    "\n",
    "Skalare Grundoperationen"
   ]
  },
  {
   "cell_type": "code",
   "execution_count": null,
   "metadata": {},
   "outputs": [],
   "source": [
    "import numpy as np\n",
    "lst = [2, 3, 7.9, 3.3, 6.9, 0.11, 10.3, 12.9]\n",
    "# man wandelt die Liste zuerst in ein NumPy-Array um\n",
    "v = np.array(lst)\n",
    "\n",
    "# Addition\n",
    "print(v + 2)\n",
    "\n",
    "# Multiplikation\n",
    "print(v * 2.2)\n",
    "\n",
    "# Exponentiation\n",
    "print(v ** 2)"
   ]
  },
  {
   "cell_type": "markdown",
   "metadata": {},
   "source": [
    "Ausgehend von einer Liste (s.o) könnte man natürlich auch folgendermaßen vorgehen:"
   ]
  },
  {
   "cell_type": "code",
   "execution_count": null,
   "metadata": {},
   "outputs": [],
   "source": [
    "lst = [2,3, 7.9, 3.3, 6.9, 0.11, 10.3, 12.9]\n",
    "res = []\n",
    "for val in lst:\n",
    "    res.append(val + 2)\n",
    "print(res)"
   ]
  },
  {
   "cell_type": "markdown",
   "metadata": {},
   "source": [
    "Oder eleganter mittels Listenabstraktion (list comprehension):"
   ]
  },
  {
   "cell_type": "code",
   "execution_count": null,
   "metadata": {
    "scrolled": true
   },
   "outputs": [],
   "source": [
    "res = [ val + 2 for val in lst]\n",
    "print(res)"
   ]
  },
  {
   "cell_type": "markdown",
   "metadata": {},
   "source": [
    "Die NumPy-Lösung ist allerdings um mehrere 10er-Potenzen schneller  \n",
    "#### Arithmetische Operationen auf zwei Arrays\n",
    "Falls wir ein weiteres Array statt eines Skalars benutzen, werden die Elemente beider Arrays komponentenweise miteinander verknüpft.  \n",
    "ACHTUNG: Die Operation **(A * B)** im folgenden darf man dabei aber **nicht** mit einer **Matritzenmultiplikation** verwechseln!"
   ]
  },
  {
   "cell_type": "code",
   "execution_count": null,
   "metadata": {},
   "outputs": [],
   "source": [
    "import numpy as np\n",
    "A = np.array([[11, 12, 13], [21, 22, 23], [31, 32, 33]])\n",
    "B = np.array([[5, 4, 2], [1, 0, 2], [3, 8, 2]])\n",
    "print(\"Addition zweier Arrays: \")\n",
    "print(A + B)\n",
    "print(\"\\nMultiplikation zweier Arrays: \")\n",
    "print(A * B)"
   ]
  },
  {
   "cell_type": "markdown",
   "metadata": {},
   "source": [
    "#### Matrizenmultiplikation und Skalarprodukt\n",
    "##### Definition der dot-Funktion\n",
    "In englischen Texten wird häufig bei dieser NumPy-Funktionalität vom \"dot product\" gesprochen. Mathematisch versteht man unter dem \"dot product\" das Skalarprodukt oder \"innere Produkt\" von zwei Vektoren.  \n",
    "Da das Skalar- oder Punktprodukt in der Mathematik üblicherweise nur für den eindimensionalen Fall bei Vektoren definiert ist und die dot-Funktion von NumPy aber auf beliebige Funktionen angewendet werden kann, sprechen wir von dot-Funktion, um Verwechslungen zur Mathematik vorzubeugen.\n",
    "\n",
    "Die Syntax der dot-Funktion sieht wie folgt aus:\n",
    "\n",
    "**dot(a, b, out=None)**\n",
    "\n",
    "Die Funktion **dot** liefert das dot-Produkt von a und b zurück.\n",
    "\n",
    "Falls sowohl a als auch b Skalare sind oder beide eindimensionale Arrays, wird ein Skalar zurückgegeben, ansonsten ein Array.\n",
    "Für eindimensionale Arrays entspricht es dem Skalarprodukt.\n",
    "Für zweidimensionale Arrays entspricht das dot-Produkt der Matrizenmultiplikation.  \n",
    "##### Beispiele zur dot-Funktion\n",
    "Wir beginnen mit den Fällen, in denen beide Argumente Skalare oder eindimensionale Arrays sind:\n",
    "\n"
   ]
  },
  {
   "cell_type": "code",
   "execution_count": null,
   "metadata": {},
   "outputs": [],
   "source": [
    "import numpy as np\n",
    "print(np.dot(3, 4))\n",
    "x = np.array([3])\n",
    "y = np.array([4])\n",
    "print(x.ndim)\n",
    "print(np.dot(x, y))\n",
    "x = np.array([3, -2])\n",
    "y = np.array([-4, 1])\n",
    "print(np.dot(x, y))"
   ]
  },
  {
   "cell_type": "markdown",
   "metadata": {},
   "source": [
    "Im zweidimensionalen Fall realisiert die dot-Funktion die Matrizenmultiplikation.  \n",
    "Betrachten wir dazu folgendes Beispiel:"
   ]
  },
  {
   "cell_type": "code",
   "execution_count": null,
   "metadata": {},
   "outputs": [],
   "source": [
    "import numpy as np\n",
    "A = np.array([[11, 12, 13, 14], \n",
    "              [21, 22, 23, 24], \n",
    "              [31, 32, 33, 34]])\n",
    "B = np.array([[5, 4, 2], \n",
    "              [1, 0, 2], \n",
    "              [3, 8, 2], \n",
    "              [24, 12, 57]])\n",
    "print(np.dot(A, B))"
   ]
  },
  {
   "cell_type": "markdown",
   "metadata": {},
   "source": [
    "Seit Python 3.5 gibt es für das dot-Produkt auch einen speziellen Infix-Operator, und zwar @:"
   ]
  },
  {
   "cell_type": "code",
   "execution_count": null,
   "metadata": {},
   "outputs": [],
   "source": [
    "print(A @ B)"
   ]
  },
  {
   "cell_type": "markdown",
   "metadata": {},
   "source": [
    "Dabei ist natürlich klar, dass die Anzahl der Spalten des ersten zweidimensionalen Arrays gleich der Anzahl der Zeilen des zweiten zweidimensionalen Arrays sein muss. Das kann man folgendermaßen testen (A.shape [-1] bedeutet Anzahl der Spalten, B.shape [-2] Anzahl der Zeilen)"
   ]
  },
  {
   "cell_type": "code",
   "execution_count": null,
   "metadata": {},
   "outputs": [],
   "source": [
    "# es muss gelten:\n",
    "print(A.shape[-1] == B.shape[-2]) "
   ]
  },
  {
   "cell_type": "markdown",
   "metadata": {},
   "source": [
    "#### Vergleichsoperatoren\n",
    "\n",
    "Wir kennen bereits Vergleichsoperatoren in Python, die wir auf Integer, Floats oder Strings angewendet haben. Sie liefern True oder False zurück. Vergleichen wir zwei Arrays miteinander, erhalten wir keinen \"einfachen\" Booleschen Wert zurück. Die Vergleiche werden elementweise durchgeführt. Dies bewirkt, dass wir ein Boolesches Array als Rückgabewert erhalten:"
   ]
  },
  {
   "cell_type": "code",
   "execution_count": null,
   "metadata": {},
   "outputs": [],
   "source": [
    "import numpy as np\n",
    "A = np.array([ [11, 12, 13], [21, 22, 23], [31, 32, 33] ])\n",
    "B = np.array([ [11, 102, 13], [201, 22, 203], [31, 32, 303] ])\n",
    "print(A == B)"
   ]
  },
  {
   "cell_type": "markdown",
   "metadata": {},
   "source": [
    "Man kann aber auch Arrays vollständig auf Gleichheit überprüfen. Dazu benutzen wir die Funktion **array_equal**, die True zurückliefert, falls zwei Arrays die gleiche Shape haben und alle Elemente gleich sind. Ansonsten wird False zurückgeliefert."
   ]
  },
  {
   "cell_type": "code",
   "execution_count": null,
   "metadata": {},
   "outputs": [],
   "source": [
    "print(np.array_equal(A, B))\n",
    "print(np.array_equal(A, A))"
   ]
  },
  {
   "cell_type": "markdown",
   "metadata": {},
   "source": [
    "#### Logische Operatoren\n",
    "\n",
    "Wir können Arrays auch komponentenweise mittels logischem 'oder' bzw. logischem 'und' verknüpfen. Dazu gibt es die Funktionen **logical_or** bzw. **logical_and**."
   ]
  },
  {
   "cell_type": "code",
   "execution_count": null,
   "metadata": {},
   "outputs": [],
   "source": [
    "a = np.array([ [True, True], [False, False]])\n",
    "b = np.array([ [True, False], [True, False]])\n",
    "print(np.logical_or(a, b))\n",
    "print(np.logical_and(a, b))"
   ]
  },
  {
   "cell_type": "markdown",
   "metadata": {},
   "source": [
    "Eine weitere interessante Funktionalität ist das sog. **broadcasting**, womit arrays mit unterschiedlichen shapes miteinander verknüpft werden können (hier nicht näher erläutert). "
   ]
  },
  {
   "cell_type": "markdown",
   "metadata": {},
   "source": [
    "## Lesen und Schreiben von Daten-Dateien\n",
    "In Python und NumPy gibt es eine Vielzahl von Möglichkeiten, Daten zu lesen und zu schreiben. Wir wollen uns hier auf einige für uns wichtige konzentrieren.\n",
    "\n",
    "### Text-Dateien speichern mit savetxt\n",
    "\n",
    "Die ersten zwei Funktionen, die wir uns anschauen möchten, sind **savetxt** und **loadtxt**.\n",
    "\n",
    "Im folgenden einfachen Beispiel definieren wir ein Array x und speichern es als Text-Datei mit savetxt:"
   ]
  },
  {
   "cell_type": "code",
   "execution_count": null,
   "metadata": {},
   "outputs": [],
   "source": [
    "import numpy as np\n",
    "x = np.array([[1, 2], \n",
    "              [3, 4],\n",
    "              [5, 6]], np.int32)\n",
    "np.savetxt(\"test.txt\", x)"
   ]
  },
  {
   "cell_type": "markdown",
   "metadata": {},
   "source": [
    "Da das Array aus Integern besteht, hätte man hier eher eine Datei erwartet, in der ganze Zahlen und nicht Float-Zahlen stehen. Man kann aber das Ausgabeformat selbst bestimmen. Im Folgenden speichern wir das Array in der Datei test2.txt mit drei Nachkommastellen und in der Datei test3.txt als Integers mit vorangestellten Leerzeichen, wenn die Anzahl der Stellen kleiner als 4 ist. Dafür übergeben wir einen Format-String an den Parameter fmt. Im vorigen Beispiel haben wir gesehen, dass der Default-Delimiter ein Leerzeichen ist. Wir können das Verhalten anpassen, indem wir einen String dem Parameter delimiter mitgeben.\n"
   ]
  },
  {
   "cell_type": "code",
   "execution_count": null,
   "metadata": {},
   "outputs": [],
   "source": [
    "np.savetxt(\"test2.txt\", x, fmt=\"%2.3f\", delimiter=\",\")\n"
   ]
  },
  {
   "cell_type": "markdown",
   "metadata": {},
   "source": [
    "### Text-Dateien laden mit loadtxt\n",
    "\n",
    "#### loadtxt mit und ohne Parameter (spezielle Trennzeichen)\n",
    "\n",
    "Jetzt werden wir die Datei \"test.txt\" einlesen, die wir im vorigen Unterkapitel erstellt haben. Auch die Dateien mit den Trennzeichen werden entsprechend eingelesen."
   ]
  },
  {
   "cell_type": "code",
   "execution_count": null,
   "metadata": {},
   "outputs": [],
   "source": [
    "# Einlesen ohne Trenner\n",
    "x = np.loadtxt(\"test.txt\")\n",
    "print(x)\n",
    "# Einlesen mit speziellem Trenner\n",
    "y = np.loadtxt(\"test2.txt\", delimiter=\",\")\n",
    "print(y)"
   ]
  },
  {
   "cell_type": "markdown",
   "metadata": {},
   "source": [
    "#### Selektives Einlesen von Spalten\n",
    "\n",
    "Häufig ist es so, dass man aus einer solchen Datei nur bestimmte Spalten einlesen will. Zu diesem Zweck übergibt man dem Parameter *usecols* ein Tupel mit den gewünschten Spaltenindizes. Dabei beginnt die Nummerierung wie üblich mit dem Index 0. Um die Wirkungsweise des Parameters *usecols* besser demonstrieren zu könnten, erzeugen und speichern wir zuerst ein Array mit 6 Spalten:"
   ]
  },
  {
   "cell_type": "code",
   "execution_count": null,
   "metadata": {},
   "outputs": [],
   "source": [
    "import numpy as np\n",
    "Z = np.random.randint(-10, 10, size=(4,10))\n",
    "print(Z)\n",
    "np.savetxt(\"test3.txt\", Z, fmt=\"%1d\", delimiter=\" \")"
   ]
  },
  {
   "cell_type": "code",
   "execution_count": null,
   "metadata": {},
   "outputs": [],
   "source": [
    "y = np.loadtxt(\"test3.txt\", \n",
    "               delimiter=\" \", \n",
    "               usecols=(0, 1, 6))\n",
    "print(y)"
   ]
  },
  {
   "cell_type": "markdown",
   "metadata": {},
   "source": [
    "# Diagramme mit Matplotlib\n",
    "\n",
    "Matplotlib ist eine Bibliothek (Python-Modul) zum Plotten ähnlich GNUplot. Mittels Matplotlib kann man professionelle Diagramme und Darstellungen in verschiedenen Formaten erzeugen, die sich hervorragend zur Visualisierung der mittels NumPy oder SciPy berechneten Daten eignen."
   ]
  },
  {
   "cell_type": "markdown",
   "metadata": {},
   "source": [
    "### Ein erstes Beispiel\n",
    "\n",
    "Wir werden mit einem einfachen Graphen beginnen. Ein Graph in Matplotlib ist eine zwei- oder dreidimensionale Zeichnung, die mit Hilfe von Punkten, Kurven, Balken oder anderem einen Zusammenhang herstellt. Es gibt zwei Achsen: die horizontale x-Achse für die unabhängigen Werte und die vertikale y-Achse für die abhängigen Werte.\n",
    "\n",
    "Wir werden im Folgenden das Untermodul **pyplot** verwenden. pyplot stellt eine prozedurale Schnittstelle zur objektorientierten Plot-Bibliothek von Matplotlib zur Verfügung. Die Kommandos von pyplot sind so gewählt, dass sie sowohl in den Namen als auch in ihren Argumenten MATLAB ähnlich sind.\n",
    "\n",
    "Es ist allgemein üblich, **matplotlib.pyplot** in **plt** umzubenennen. In unserem ersten Beispiel werden wir die plot-Funktion von pyplot benutzen. Wir übergeben an die plot-Funktion eine Liste von Werten. plot betrachtet und benutzt die Werte dieser Liste als y-Werte. Die Indizes dieser Liste werden automatisch als x-Werte genommen."
   ]
  },
  {
   "cell_type": "code",
   "execution_count": null,
   "metadata": {
    "scrolled": true
   },
   "outputs": [],
   "source": [
    "import matplotlib.pyplot as plt\n",
    "plt.plot([-1, -4.5, 16, 23, 15, 59])\n",
    "plt.show()"
   ]
  },
  {
   "cell_type": "markdown",
   "metadata": {},
   "source": [
    "Wir sehen einen zusammenhängenden Graphen, obwohl wir nur diskrete Werte für die Ordinate, allgemein auch als Y-Achse bezeichnet, zur Verfügung gestellt hatten. Als Werte für die Abszisse, also die X-Achse, wurden die Indizes genommen.\n",
    "\n",
    "Indem wir einen Formatstring beim Funktionsaufruf mitübergeben, können wir einen Graphen mit diskreten Werten erzeugen, in unserem Fall mit blauen Vollkreisen. Der Formatstring definiert, wie die diskreten Punkte dazustellen sind:"
   ]
  },
  {
   "cell_type": "code",
   "execution_count": null,
   "metadata": {
    "scrolled": true
   },
   "outputs": [],
   "source": [
    "import matplotlib.pyplot as plt\n",
    "plt.plot([-1, -4.5, 16, 23, 15, 59], \"ob\")\n",
    "plt.show()"
   ]
  },
  {
   "cell_type": "markdown",
   "metadata": {},
   "source": [
    "Die folgenden Zeichen werden in einem Formatstring akzeptiert, um den Linienstil oder die Marker zu steuern:"
   ]
  },
  {
   "cell_type": "code",
   "execution_count": null,
   "metadata": {},
   "outputs": [],
   "source": [
    "#Zeichen       Beschreibung\n",
    "#=============================================\n",
    "#'-'  (Bindestrich) durchgezogene Linie\n",
    "#'--'  (zwei Bindestriche) gestrichelte Linie\n",
    "#'-.' Strichpunkt-Linie\n",
    "#':' punktierte Linie\n",
    "#'.' Punkt-Marker\n",
    "#',' Pixel-Marker\n",
    "#'o' Kreis-Marker\n",
    "#'v' Dreiecks-Marker, Spitze nach unten\n",
    "#'^' Dreiecks-Marker, Spitze nach oben\n",
    "#'<' Dreiecks-Marker, Spitze nach links\n",
    "#'>' Dreiecks-Marker, Spitze nach rechs\n",
    "#'1' tri-runter-Marker\n",
    "#'2' tri-hoch-Marker\n",
    "#'3' tri-links Marker\n",
    "#'4' tri-rechts Marker\n",
    "#'s' quadratischer Marker\n",
    "#'p' fünfeckiger Marker\n",
    "#'*' Stern-Marker\n",
    "#'h' Sechseck-Marker1\n",
    "#'H' Sechseck-Marker2\n",
    "#'+' Plus-Marker\n",
    "#'x' x-Marker\n",
    "#'D' rautenförmiger Marker\n",
    "#'d' dünner rautenförmiger Marker\n",
    "#'|' Marker in Form einer vertikalen Linie\n",
    "#'_' Marker in Form einer horizontalen Liniw\n",
    "#==============================================="
   ]
  },
  {
   "cell_type": "markdown",
   "metadata": {},
   "source": [
    "Die folgenden Farbabkürzungen sind möglich:"
   ]
  },
  {
   "cell_type": "code",
   "execution_count": null,
   "metadata": {},
   "outputs": [],
   "source": [
    "#==================\n",
    "#Zeichen    Farbe\n",
    "#==================\n",
    "#'b' blau\n",
    "#'g' grün\n",
    "#'r' rot\n",
    "#'c' cyan\n",
    "#'m' magenta\n",
    "#'y' gelb\n",
    "#'k' schwarz\n",
    "#'w' weiß\n",
    "#=================="
   ]
  },
  {
   "cell_type": "markdown",
   "metadata": {},
   "source": [
    "Natürlich kann man auch X-Werte an die Plot-Funktion übergeben. Im folgenden Beispiel übergeben wir eine Liste mit den Vielfachen von 3 zwischen 0 und 21 als X-Werte an plot:"
   ]
  },
  {
   "cell_type": "code",
   "execution_count": null,
   "metadata": {},
   "outputs": [],
   "source": [
    "import matplotlib.pyplot as plt\n",
    "# die X-Werte:\n",
    "days = list(range(0, 22, 3))\n",
    "print(days)\n",
    "# die Y-Werte:\n",
    "celsius_values = [25.6, 24.1, 26.7, 28.3, 27.5, 30.5, 32.8, 33.1]\n",
    "plt.plot(days, celsius_values,'bo')\n",
    "plt.show()"
   ]
  },
  {
   "cell_type": "markdown",
   "metadata": {},
   "source": [
    "#### Achsenbezeichnungen\n",
    "\n",
    "Wir können das Aussehen unseres Graphen verbessern, indem wir die Achsen mit Bezeichnungen versehen. Dazu benutzen wir die *ylabel-* und *xlabel-*Funktionen von pyplot."
   ]
  },
  {
   "cell_type": "code",
   "execution_count": null,
   "metadata": {},
   "outputs": [],
   "source": [
    "import matplotlib.pyplot as plt\n",
    "days = list(range(1,9))\n",
    "celsius_values = [25.6, 24.1, 26.7, 28.3, 27.5, 30.5, 32.8, 33.1]\n",
    "plt.plot(days, celsius_values,'bo')\n",
    "plt.xlabel('Day')\n",
    "plt.ylabel('Degrees Celsius')\n",
    "plt.show()"
   ]
  },
  {
   "cell_type": "markdown",
   "metadata": {},
   "source": [
    "Wir können eine beliebige Anzahl von (x, y, fmt)-Gruppen in einer Plot-Funktion spezifizieren. Im folgenden Beispiel benutzen wir zwei verschiedene Listen mit Y-Werten:"
   ]
  },
  {
   "cell_type": "code",
   "execution_count": null,
   "metadata": {},
   "outputs": [],
   "source": [
    "import matplotlib.pyplot as plt\n",
    "days = list(range(1,9))\n",
    "celsius_min = [19.6, 24.1, 26.7, 28.3, 27.5, 30.5, 32.8, 33.1]\n",
    "celsius_max = [24.8, 28.9, 31.3, 33.0, 34.9, 35.6, 38.4, 39.2]\n",
    "plt.xlabel('Day')\n",
    "plt.ylabel('Degrees Celsius')\n",
    "plt.plot(days, celsius_min,\n",
    "         days, celsius_min, \"oy\",\n",
    "         days, celsius_max, \n",
    "         days, celsius_max, \"<r\")\n",
    "plt.show()"
   ]
  },
  {
   "cell_type": "markdown",
   "metadata": {},
   "source": [
    "#### Abfragen und Ändern des Wertebereichs der Achsen\n",
    "\n",
    "Mit der Funktion *axis* lässt sich der Wertebereich einer Achse abfragen und ändern. Ruft man *axis* ohne Argumente auf, liefert sie den aktuellen Wertebereich einer Achse zurück:"
   ]
  },
  {
   "cell_type": "code",
   "execution_count": null,
   "metadata": {},
   "outputs": [],
   "source": [
    "import matplotlib.pyplot as plt\n",
    "days = list(range(1,9))\n",
    "celsius_min = [19.6, 24.1, 26.7, 28.3, 27.5, 30.5, 32.8, 33.1]\n",
    "celsius_max = [24.8, 28.9, 31.3, 33.0, 34.9, 35.6, 38.4, 39.2]\n",
    "plt.xlabel('Day')\n",
    "plt.ylabel('Degrees Celsius')\n",
    "plt.plot(days, celsius_min,\n",
    "         days, celsius_min, \"oy\",\n",
    "         days, celsius_max, \n",
    "         days, celsius_max, \"or\")\n",
    "print(\"The current limits for the axes are:\")        \n",
    "print(plt.axis())\n",
    "print(\"We set the axes to the following values:\")\n",
    "xmin, xmax, ymin, ymax = 0, 10, 14, 45\n",
    "print(xmin, xmax, ymin, ymax)\n",
    "plt.axis([xmin, xmax, ymin, ymax])\n",
    "plt.show()"
   ]
  },
  {
   "cell_type": "markdown",
   "metadata": {},
   "source": [
    "#### linspace zur Definition von X-Werten\n",
    "\n",
    "Im folgenden Beispiel werden wir die NumPy-Funktion *linspace* verwenden. *linspace* wird dazu benutzt, gleichmäßig verteilte Werte innerhalb eines spezifizierten Intervalls zu erzeugen."
   ]
  },
  {
   "cell_type": "code",
   "execution_count": null,
   "metadata": {},
   "outputs": [],
   "source": [
    "import numpy as np\n",
    "import matplotlib.pyplot as plt\n",
    "X = np.linspace(0, 2 * np.pi, 50, endpoint=True)\n",
    "F = np.sin(X)\n",
    "plt.plot(X,F)\n",
    "startx, endx = -0.1, 2*np.pi + 0.1\n",
    "starty, endy = -1.1, 1.1\n",
    "plt.axis([startx, endx, starty, endy])\n",
    "plt.show()"
   ]
  },
  {
   "cell_type": "markdown",
   "metadata": {},
   "source": [
    "#### Linienstil ändern\n",
    "\n",
    "Der Linienstil eines Plots kann durch die Parameter **linestyle** oder ls der plot-Funktion beeinflusst werden. Sie können auf einen der folgenden Werte gesetzt werden:\n",
    "\n",
    "'-', '--', '-.', ':', 'None', ' ', ''\n",
    "\n",
    "Wir können mit **linewidth**, wie der Name impliziert, die Linienstärke oder Liniendicke setzen:"
   ]
  },
  {
   "cell_type": "code",
   "execution_count": null,
   "metadata": {},
   "outputs": [],
   "source": [
    "import numpy as np\n",
    "import matplotlib.pyplot as plt\n",
    "X = np.linspace(0, 2 * np.pi, 50, endpoint=True)\n",
    "F1 = 3 * np.sin(X)\n",
    "F2 = np.sin(2*X)\n",
    "F3 = 0.3 * np.sin(X)\n",
    "F4 = np.cos(X)\n",
    "plt.plot(X, F1, color=\"blue\", linewidth=2.5, linestyle=\"-\")\n",
    "plt.plot(X, F2, color=\"red\", linewidth=1.5, linestyle=\"--\")\n",
    "plt.plot(X, F3, color=\"green\", linewidth=2, linestyle=\":\")\n",
    "plt.plot(X, F4, color=\"grey\", linewidth=2, linestyle=\"-.\")\n",
    "plt.show()"
   ]
  },
  {
   "cell_type": "markdown",
   "metadata": {},
   "source": [
    "#### Flächen einfärben\n",
    "\n",
    "Mit der pyplot-Funktion *fill_between* ist es möglich, Flächen zwischen Kurven oder Achsen zu schraffieren oder einzufärben. Im folgenden Beispiel füllen wir die Flächen zwischen der X-Achse und dem Graph der Funktion sin(2*X):"
   ]
  },
  {
   "cell_type": "code",
   "execution_count": null,
   "metadata": {},
   "outputs": [],
   "source": [
    "import numpy as np\n",
    "import matplotlib.pyplot as plt\n",
    "n = 256\n",
    "X = np.linspace(-np.pi,np.pi,n,endpoint=True)\n",
    "Y = np.sin(2*X)\n",
    "plt.plot (X, Y, color='blue', alpha=1.00)\n",
    "plt.fill_between(X, 0, Y, color='blue', alpha=.1)\n",
    "plt.show()"
   ]
  },
  {
   "cell_type": "code",
   "execution_count": null,
   "metadata": {},
   "outputs": [],
   "source": [
    "# Die allgemeine Syntax von fill_between:\n",
    "\n",
    "# fill_between(x, y1, y2=0, where=None, interpolate=False, **kwargs)\n",
    "\n",
    "# Die Parameter von fill_between:\n",
    "\n",
    "# Parameter   Bedeutung\n",
    "# x           Ein Array mit N Elementen mit X-Werten\n",
    "# y1          Ein Array mit N Elementen (oder ein Skalar) von Y-Daten\n",
    "# y2          Ein Array mit N Elementen (oder ein Skalar) von Y-Daten\n",
    "# where       Wenn auf None gesetzt, wird per Default alles gefüllt. Wenn es nicht auf \n",
    "#             None gesetzt wird, so wird ein numpy boolean-Array erwartet mit N Elementen. \n",
    "#             Es werden nur dann die Regionen eingefärbt, bei denen where==True ist.\n",
    "# interpolate Wenn True, so wird zwischen zwei Linien interpoliert, um den genauen Schnittpunkt\n",
    "#             zu finden. Andernfalls werden die Start- und Endwerte nur als explizite Werte \n",
    "#             auf der Region erscheinen.\n",
    "# kwargs      Schlüsselwort-Argumente, die an PolyCollection übergeben werden."
   ]
  },
  {
   "cell_type": "markdown",
   "metadata": {},
   "source": [
    "Im nächsten Beispiel füllen wir die Flächen zwischen den Funktionen F1 und F2:"
   ]
  },
  {
   "cell_type": "code",
   "execution_count": null,
   "metadata": {},
   "outputs": [],
   "source": [
    "import numpy as np\n",
    "import matplotlib.pyplot as plt\n",
    "X = np.linspace(0, 2 * np.pi, 50, endpoint=True)\n",
    "F1 = 3 * np.sin(X)\n",
    "F2 = np.sin(2*X)\n",
    "plt.plot(X, F1, color=\"blue\", linewidth=2.5, linestyle=\"-\")\n",
    "plt.plot(X, F2, color=\"red\", linewidth=1.5, linestyle=\"--\")\n",
    "plt.fill_between(X, F1, F2, color='blue', alpha=.1)\n",
    "plt.show()"
   ]
  },
  {
   "cell_type": "markdown",
   "metadata": {},
   "source": [
    "### Histogramme\n",
    "Ein Histogramm ist eine grafische Repräsentation einer Verteilung von numerischen Daten. Rechtecke mit der gleichen Breite haben Höhen, die den zugehörigen Anzahlen (Frequenzen) entsprechen.\n",
    "\n",
    "Wenn wir ein Histogramm konstruieren, beginnen wir mit der Verteilung des Bereichs der möglichen x-Werte in gewöhnlich gleich große und benachbarte Klassen bzw. Intervalle, die man in Englisch Bins nennt. Die Daten werden nun entsprechend ihrer Größe in diese Bins verteilt. Für jede Klasse bzw. Intervall werden dann Rechtecke gezeichnet, deren Höhe bzw. Flächeninhalt der relativen oder absoluten Häufigkeit der Klasse entspricht.\n",
    "\n",
    "Wir schreiben nun ein Python-Programm, indem wir Zufallszahlen erzeugen und aus diesen ein Histogramm erzeugen:"
   ]
  },
  {
   "cell_type": "code",
   "execution_count": null,
   "metadata": {},
   "outputs": [],
   "source": [
    "import matplotlib.pyplot as plt\n",
    "import numpy as np\n",
    "gaussian_numbers = np.random.normal(size=10000)\n",
    "plt.hist(gaussian_numbers)\n",
    "plt.title(\"Gaussian Histogram\")\n",
    "plt.xlabel(\"Wert\")\n",
    "plt.ylabel(\"Häufigkeit\")\n",
    "plt.show()"
   ]
  },
  {
   "cell_type": "markdown",
   "metadata": {},
   "source": [
    "Was bedeuten die Parameter **n, bins, patches:**  \n",
    "    **n:** Anzahl der Elemente in jedem bin, **bins:** linker Rand jedes bin, **patches:** alle Rechtecke des Histogramms  \n",
    "        "
   ]
  },
  {
   "cell_type": "code",
   "execution_count": null,
   "metadata": {
    "scrolled": true
   },
   "outputs": [],
   "source": [
    "n, bins, patches = plt.hist(gaussian_numbers)\n",
    "print(\"n= \",n,sum(n))\n",
    "print(bins)\n",
    "print(patches)"
   ]
  },
  {
   "cell_type": "code",
   "execution_count": null,
   "metadata": {},
   "outputs": [],
   "source": []
  }
 ],
 "metadata": {
  "kernelspec": {
   "display_name": "Python 3 (ipykernel)",
   "language": "python",
   "name": "python3"
  },
  "language_info": {
   "codemirror_mode": {
    "name": "ipython",
    "version": 3
   },
   "file_extension": ".py",
   "mimetype": "text/x-python",
   "name": "python",
   "nbconvert_exporter": "python",
   "pygments_lexer": "ipython3",
   "version": "3.10.9"
  }
 },
 "nbformat": 4,
 "nbformat_minor": 4
}
